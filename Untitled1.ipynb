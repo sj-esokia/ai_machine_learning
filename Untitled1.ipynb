{
 "cells": [
  {
   "cell_type": "code",
   "execution_count": 5,
   "metadata": {},
   "outputs": [
    {
     "name": "stdout",
     "output_type": "stream",
     "text": [
      "(6, 1)\n",
      "(6,)\n",
      "intercept: 5.633333333333329\n",
      "slope: [0.54]\n",
      "prediction for verification:\n",
      "[ 8.33333333 13.73333333 19.13333333 24.53333333 29.93333333 35.33333333]\n",
      "new prediction: [ 7.79333333 11.03333333 48.83333333]\n"
     ]
    }
   ],
   "source": [
    "import numpy as np\n",
    "from sklearn.linear_model import LinearRegression\n",
    "x = np.array([5,15,25,35,45,55]).reshape((-1,1))\n",
    "y = np.array([5,20,14,32,22,38])\n",
    "\n",
    "print(x.shape)\n",
    "print(y.shape)\n",
    "\n",
    "model = LinearRegression().fit(x,y)\n",
    "\n",
    "print(\"intercept:\", model.intercept_)\n",
    "print(\"slope:\", model.coef_)\n",
    "\n",
    "y_pred = model.predict(x)\n",
    "print(\"prediction for verification:\", y_pred, sep='\\n')\n",
    "\n",
    "x_new = np.array([4,10,80]).reshape((-1,1))\n",
    "y_pred_new = model.predict(x_new)\n",
    "print('new prediction:',y_pred_new)"
   ]
  }
 ],
 "metadata": {
  "kernelspec": {
   "display_name": "Python 3",
   "language": "python",
   "name": "python3"
  },
  "language_info": {
   "codemirror_mode": {
    "name": "ipython",
    "version": 3
   },
   "file_extension": ".py",
   "mimetype": "text/x-python",
   "name": "python",
   "nbconvert_exporter": "python",
   "pygments_lexer": "ipython3",
   "version": "3.7.3"
  }
 },
 "nbformat": 4,
 "nbformat_minor": 2
}
